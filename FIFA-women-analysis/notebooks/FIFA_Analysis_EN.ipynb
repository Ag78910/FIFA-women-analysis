{
  "cells": [
    {
      "cell_type": "markdown",
      "id": "6c9ad965",
      "metadata": {
        "id": "6c9ad965"
      },
      "source": [
        "# Data Analysis: Women's Football - FIFA\n",
        "\n",
        "This notebook contains exploratory analysis and regression models developed to evaluate the salary value of female football players based on FIFA data. Project by Alejandro Galindo Valencia and Carla Moreno Molina."
      ]
    },
    {
      "cell_type": "code",
      "execution_count": 1,
      "id": "d51559e5",
      "metadata": {
        "id": "d51559e5"
      },
      "outputs": [],
      "source": [
        "import pandas as pd\n",
        "import numpy as np\n",
        "import matplotlib.pyplot as plt\n",
        "import seaborn as sns\n",
        "\n",
        "from sklearn.model_selection import train_test_split\n",
        "from sklearn.linear_model import LinearRegression\n",
        "from sklearn.metrics import mean_squared_error, r2_score\n"
      ]
    },
    {
      "cell_type": "code",
      "execution_count": 5,
      "id": "9ab845c4",
      "metadata": {
        "colab": {
          "base_uri": "https://localhost:8080/",
          "height": 777
        },
        "id": "9ab845c4",
        "outputId": "a21cf729-6064-413c-81a5-baf37d3c21ca"
      },
      "outputs": [
        {
          "output_type": "stream",
          "name": "stdout",
          "text": [
            "--2025-07-02 17:30:25--  https://raw.githubusercontent.com/Ag78910/FIFA-women-analysis/main/FIFA-women-analysis/data/female_players.csv\n",
            "Resolving raw.githubusercontent.com (raw.githubusercontent.com)... 185.199.108.133, 185.199.109.133, 185.199.110.133, ...\n",
            "Connecting to raw.githubusercontent.com (raw.githubusercontent.com)|185.199.108.133|:443... connected.\n",
            "HTTP request sent, awaiting response... 200 OK\n",
            "Length: 2529879 (2.4M) [text/plain]\n",
            "Saving to: ‘female_players.csv’\n",
            "\n",
            "female_players.csv  100%[===================>]   2.41M  --.-KB/s    in 0.02s   \n",
            "\n",
            "2025-07-02 17:30:26 (126 MB/s) - ‘female_players.csv’ saved [2529879/2529879]\n",
            "\n",
            "--2025-07-02 17:30:26--  https://raw.githubusercontent.com/Ag78910/FIFA-women-analysis/main/FIFA-women-analysis/data/female_teams.csv\n",
            "Resolving raw.githubusercontent.com (raw.githubusercontent.com)... 185.199.111.133, 185.199.109.133, 185.199.108.133, ...\n",
            "Connecting to raw.githubusercontent.com (raw.githubusercontent.com)|185.199.111.133|:443... connected.\n",
            "HTTP request sent, awaiting response... 200 OK\n",
            "Length: 68778 (67K) [text/plain]\n",
            "Saving to: ‘female_teams.csv’\n",
            "\n",
            "female_teams.csv    100%[===================>]  67.17K  --.-KB/s    in 0.002s  \n",
            "\n",
            "2025-07-02 17:30:26 (26.8 MB/s) - ‘female_teams.csv’ saved [68778/68778]\n",
            "\n"
          ]
        },
        {
          "output_type": "execute_result",
          "data": {
            "text/plain": [
              "   player_id                                    player_url  fifa_version_x  \\\n",
              "0     227203  /player/227203/alexia-putellas-segura/240002            24.0   \n",
              "1     241667    /player/241667/aitana-bonmati-conca/240002            24.0   \n",
              "2     227102  /player/227102/caroline-graham-hansen/240002            24.0   \n",
              "3     227125                /player/227125/sam-kerr/240002            24.0   \n",
              "4     227125                /player/227125/sam-kerr/240002            24.0   \n",
              "\n",
              "   fifa_update_x update_as_of_x       short_name               long_name  \\\n",
              "0            2.0     2023-09-22  Alexia Putellas  Alexia Putellas Segura   \n",
              "1            2.0     2023-09-22   Aitana Bonmatí    Aitana Bonmatí Conca   \n",
              "2            2.0     2023-09-22        C. Hansen  Caroline Graham Hansen   \n",
              "3            2.0     2023-09-22          S. Kerr       Samantha May Kerr   \n",
              "4            2.0     2023-09-22          S. Kerr       Samantha May Kerr   \n",
              "\n",
              "  player_positions  overall_x  potential  ...  off_corners  off_free_kicks  \\\n",
              "0           CM, LW         91         91  ...          3.0             3.0   \n",
              "1               CM         90         92  ...          3.0             3.0   \n",
              "2               RW         90         90  ...          3.0             3.0   \n",
              "3               ST         90         90  ...          3.0             3.0   \n",
              "4               ST         90         90  ...          3.0             3.0   \n",
              "\n",
              "   build_up_play_speed build_up_play_dribbling  build_up_play_passing  \\\n",
              "0                  NaN                     NaN                    NaN   \n",
              "1                  NaN                     NaN                    NaN   \n",
              "2                  NaN                     NaN                    NaN   \n",
              "3                  NaN                     NaN                    NaN   \n",
              "4                  NaN                     NaN                    NaN   \n",
              "\n",
              "   build_up_play_positioning  chance_creation_passing  \\\n",
              "0                        NaN                      NaN   \n",
              "1                        NaN                      NaN   \n",
              "2                        NaN                      NaN   \n",
              "3                        NaN                      NaN   \n",
              "4                        NaN                      NaN   \n",
              "\n",
              "  chance_creation_crossing  chance_creation_shooting  \\\n",
              "0                      NaN                       NaN   \n",
              "1                      NaN                       NaN   \n",
              "2                      NaN                       NaN   \n",
              "3                      NaN                       NaN   \n",
              "4                      NaN                       NaN   \n",
              "\n",
              "  chance_creation_positioning  \n",
              "0                         NaN  \n",
              "1                         NaN  \n",
              "2                         NaN  \n",
              "3                         NaN  \n",
              "4                         NaN  \n",
              "\n",
              "[5 rows x 163 columns]"
            ],
            "text/html": [
              "\n",
              "  <div id=\"df-3027ffb8-73de-4373-a7f7-f9133c2deaf3\" class=\"colab-df-container\">\n",
              "    <div>\n",
              "<style scoped>\n",
              "    .dataframe tbody tr th:only-of-type {\n",
              "        vertical-align: middle;\n",
              "    }\n",
              "\n",
              "    .dataframe tbody tr th {\n",
              "        vertical-align: top;\n",
              "    }\n",
              "\n",
              "    .dataframe thead th {\n",
              "        text-align: right;\n",
              "    }\n",
              "</style>\n",
              "<table border=\"1\" class=\"dataframe\">\n",
              "  <thead>\n",
              "    <tr style=\"text-align: right;\">\n",
              "      <th></th>\n",
              "      <th>player_id</th>\n",
              "      <th>player_url</th>\n",
              "      <th>fifa_version_x</th>\n",
              "      <th>fifa_update_x</th>\n",
              "      <th>update_as_of_x</th>\n",
              "      <th>short_name</th>\n",
              "      <th>long_name</th>\n",
              "      <th>player_positions</th>\n",
              "      <th>overall_x</th>\n",
              "      <th>potential</th>\n",
              "      <th>...</th>\n",
              "      <th>off_corners</th>\n",
              "      <th>off_free_kicks</th>\n",
              "      <th>build_up_play_speed</th>\n",
              "      <th>build_up_play_dribbling</th>\n",
              "      <th>build_up_play_passing</th>\n",
              "      <th>build_up_play_positioning</th>\n",
              "      <th>chance_creation_passing</th>\n",
              "      <th>chance_creation_crossing</th>\n",
              "      <th>chance_creation_shooting</th>\n",
              "      <th>chance_creation_positioning</th>\n",
              "    </tr>\n",
              "  </thead>\n",
              "  <tbody>\n",
              "    <tr>\n",
              "      <th>0</th>\n",
              "      <td>227203</td>\n",
              "      <td>/player/227203/alexia-putellas-segura/240002</td>\n",
              "      <td>24.0</td>\n",
              "      <td>2.0</td>\n",
              "      <td>2023-09-22</td>\n",
              "      <td>Alexia Putellas</td>\n",
              "      <td>Alexia Putellas Segura</td>\n",
              "      <td>CM, LW</td>\n",
              "      <td>91</td>\n",
              "      <td>91</td>\n",
              "      <td>...</td>\n",
              "      <td>3.0</td>\n",
              "      <td>3.0</td>\n",
              "      <td>NaN</td>\n",
              "      <td>NaN</td>\n",
              "      <td>NaN</td>\n",
              "      <td>NaN</td>\n",
              "      <td>NaN</td>\n",
              "      <td>NaN</td>\n",
              "      <td>NaN</td>\n",
              "      <td>NaN</td>\n",
              "    </tr>\n",
              "    <tr>\n",
              "      <th>1</th>\n",
              "      <td>241667</td>\n",
              "      <td>/player/241667/aitana-bonmati-conca/240002</td>\n",
              "      <td>24.0</td>\n",
              "      <td>2.0</td>\n",
              "      <td>2023-09-22</td>\n",
              "      <td>Aitana Bonmatí</td>\n",
              "      <td>Aitana Bonmatí Conca</td>\n",
              "      <td>CM</td>\n",
              "      <td>90</td>\n",
              "      <td>92</td>\n",
              "      <td>...</td>\n",
              "      <td>3.0</td>\n",
              "      <td>3.0</td>\n",
              "      <td>NaN</td>\n",
              "      <td>NaN</td>\n",
              "      <td>NaN</td>\n",
              "      <td>NaN</td>\n",
              "      <td>NaN</td>\n",
              "      <td>NaN</td>\n",
              "      <td>NaN</td>\n",
              "      <td>NaN</td>\n",
              "    </tr>\n",
              "    <tr>\n",
              "      <th>2</th>\n",
              "      <td>227102</td>\n",
              "      <td>/player/227102/caroline-graham-hansen/240002</td>\n",
              "      <td>24.0</td>\n",
              "      <td>2.0</td>\n",
              "      <td>2023-09-22</td>\n",
              "      <td>C. Hansen</td>\n",
              "      <td>Caroline Graham Hansen</td>\n",
              "      <td>RW</td>\n",
              "      <td>90</td>\n",
              "      <td>90</td>\n",
              "      <td>...</td>\n",
              "      <td>3.0</td>\n",
              "      <td>3.0</td>\n",
              "      <td>NaN</td>\n",
              "      <td>NaN</td>\n",
              "      <td>NaN</td>\n",
              "      <td>NaN</td>\n",
              "      <td>NaN</td>\n",
              "      <td>NaN</td>\n",
              "      <td>NaN</td>\n",
              "      <td>NaN</td>\n",
              "    </tr>\n",
              "    <tr>\n",
              "      <th>3</th>\n",
              "      <td>227125</td>\n",
              "      <td>/player/227125/sam-kerr/240002</td>\n",
              "      <td>24.0</td>\n",
              "      <td>2.0</td>\n",
              "      <td>2023-09-22</td>\n",
              "      <td>S. Kerr</td>\n",
              "      <td>Samantha May Kerr</td>\n",
              "      <td>ST</td>\n",
              "      <td>90</td>\n",
              "      <td>90</td>\n",
              "      <td>...</td>\n",
              "      <td>3.0</td>\n",
              "      <td>3.0</td>\n",
              "      <td>NaN</td>\n",
              "      <td>NaN</td>\n",
              "      <td>NaN</td>\n",
              "      <td>NaN</td>\n",
              "      <td>NaN</td>\n",
              "      <td>NaN</td>\n",
              "      <td>NaN</td>\n",
              "      <td>NaN</td>\n",
              "    </tr>\n",
              "    <tr>\n",
              "      <th>4</th>\n",
              "      <td>227125</td>\n",
              "      <td>/player/227125/sam-kerr/240002</td>\n",
              "      <td>24.0</td>\n",
              "      <td>2.0</td>\n",
              "      <td>2023-09-22</td>\n",
              "      <td>S. Kerr</td>\n",
              "      <td>Samantha May Kerr</td>\n",
              "      <td>ST</td>\n",
              "      <td>90</td>\n",
              "      <td>90</td>\n",
              "      <td>...</td>\n",
              "      <td>3.0</td>\n",
              "      <td>3.0</td>\n",
              "      <td>NaN</td>\n",
              "      <td>NaN</td>\n",
              "      <td>NaN</td>\n",
              "      <td>NaN</td>\n",
              "      <td>NaN</td>\n",
              "      <td>NaN</td>\n",
              "      <td>NaN</td>\n",
              "      <td>NaN</td>\n",
              "    </tr>\n",
              "  </tbody>\n",
              "</table>\n",
              "<p>5 rows × 163 columns</p>\n",
              "</div>\n",
              "    <div class=\"colab-df-buttons\">\n",
              "\n",
              "  <div class=\"colab-df-container\">\n",
              "    <button class=\"colab-df-convert\" onclick=\"convertToInteractive('df-3027ffb8-73de-4373-a7f7-f9133c2deaf3')\"\n",
              "            title=\"Convert this dataframe to an interactive table.\"\n",
              "            style=\"display:none;\">\n",
              "\n",
              "  <svg xmlns=\"http://www.w3.org/2000/svg\" height=\"24px\" viewBox=\"0 -960 960 960\">\n",
              "    <path d=\"M120-120v-720h720v720H120Zm60-500h600v-160H180v160Zm220 220h160v-160H400v160Zm0 220h160v-160H400v160ZM180-400h160v-160H180v160Zm440 0h160v-160H620v160ZM180-180h160v-160H180v160Zm440 0h160v-160H620v160Z\"/>\n",
              "  </svg>\n",
              "    </button>\n",
              "\n",
              "  <style>\n",
              "    .colab-df-container {\n",
              "      display:flex;\n",
              "      gap: 12px;\n",
              "    }\n",
              "\n",
              "    .colab-df-convert {\n",
              "      background-color: #E8F0FE;\n",
              "      border: none;\n",
              "      border-radius: 50%;\n",
              "      cursor: pointer;\n",
              "      display: none;\n",
              "      fill: #1967D2;\n",
              "      height: 32px;\n",
              "      padding: 0 0 0 0;\n",
              "      width: 32px;\n",
              "    }\n",
              "\n",
              "    .colab-df-convert:hover {\n",
              "      background-color: #E2EBFA;\n",
              "      box-shadow: 0px 1px 2px rgba(60, 64, 67, 0.3), 0px 1px 3px 1px rgba(60, 64, 67, 0.15);\n",
              "      fill: #174EA6;\n",
              "    }\n",
              "\n",
              "    .colab-df-buttons div {\n",
              "      margin-bottom: 4px;\n",
              "    }\n",
              "\n",
              "    [theme=dark] .colab-df-convert {\n",
              "      background-color: #3B4455;\n",
              "      fill: #D2E3FC;\n",
              "    }\n",
              "\n",
              "    [theme=dark] .colab-df-convert:hover {\n",
              "      background-color: #434B5C;\n",
              "      box-shadow: 0px 1px 3px 1px rgba(0, 0, 0, 0.15);\n",
              "      filter: drop-shadow(0px 1px 2px rgba(0, 0, 0, 0.3));\n",
              "      fill: #FFFFFF;\n",
              "    }\n",
              "  </style>\n",
              "\n",
              "    <script>\n",
              "      const buttonEl =\n",
              "        document.querySelector('#df-3027ffb8-73de-4373-a7f7-f9133c2deaf3 button.colab-df-convert');\n",
              "      buttonEl.style.display =\n",
              "        google.colab.kernel.accessAllowed ? 'block' : 'none';\n",
              "\n",
              "      async function convertToInteractive(key) {\n",
              "        const element = document.querySelector('#df-3027ffb8-73de-4373-a7f7-f9133c2deaf3');\n",
              "        const dataTable =\n",
              "          await google.colab.kernel.invokeFunction('convertToInteractive',\n",
              "                                                    [key], {});\n",
              "        if (!dataTable) return;\n",
              "\n",
              "        const docLinkHtml = 'Like what you see? Visit the ' +\n",
              "          '<a target=\"_blank\" href=https://colab.research.google.com/notebooks/data_table.ipynb>data table notebook</a>'\n",
              "          + ' to learn more about interactive tables.';\n",
              "        element.innerHTML = '';\n",
              "        dataTable['output_type'] = 'display_data';\n",
              "        await google.colab.output.renderOutput(dataTable, element);\n",
              "        const docLink = document.createElement('div');\n",
              "        docLink.innerHTML = docLinkHtml;\n",
              "        element.appendChild(docLink);\n",
              "      }\n",
              "    </script>\n",
              "  </div>\n",
              "\n",
              "\n",
              "    <div id=\"df-69d99f28-62ef-4cce-a9db-0fc5c6021742\">\n",
              "      <button class=\"colab-df-quickchart\" onclick=\"quickchart('df-69d99f28-62ef-4cce-a9db-0fc5c6021742')\"\n",
              "                title=\"Suggest charts\"\n",
              "                style=\"display:none;\">\n",
              "\n",
              "<svg xmlns=\"http://www.w3.org/2000/svg\" height=\"24px\"viewBox=\"0 0 24 24\"\n",
              "     width=\"24px\">\n",
              "    <g>\n",
              "        <path d=\"M19 3H5c-1.1 0-2 .9-2 2v14c0 1.1.9 2 2 2h14c1.1 0 2-.9 2-2V5c0-1.1-.9-2-2-2zM9 17H7v-7h2v7zm4 0h-2V7h2v10zm4 0h-2v-4h2v4z\"/>\n",
              "    </g>\n",
              "</svg>\n",
              "      </button>\n",
              "\n",
              "<style>\n",
              "  .colab-df-quickchart {\n",
              "      --bg-color: #E8F0FE;\n",
              "      --fill-color: #1967D2;\n",
              "      --hover-bg-color: #E2EBFA;\n",
              "      --hover-fill-color: #174EA6;\n",
              "      --disabled-fill-color: #AAA;\n",
              "      --disabled-bg-color: #DDD;\n",
              "  }\n",
              "\n",
              "  [theme=dark] .colab-df-quickchart {\n",
              "      --bg-color: #3B4455;\n",
              "      --fill-color: #D2E3FC;\n",
              "      --hover-bg-color: #434B5C;\n",
              "      --hover-fill-color: #FFFFFF;\n",
              "      --disabled-bg-color: #3B4455;\n",
              "      --disabled-fill-color: #666;\n",
              "  }\n",
              "\n",
              "  .colab-df-quickchart {\n",
              "    background-color: var(--bg-color);\n",
              "    border: none;\n",
              "    border-radius: 50%;\n",
              "    cursor: pointer;\n",
              "    display: none;\n",
              "    fill: var(--fill-color);\n",
              "    height: 32px;\n",
              "    padding: 0;\n",
              "    width: 32px;\n",
              "  }\n",
              "\n",
              "  .colab-df-quickchart:hover {\n",
              "    background-color: var(--hover-bg-color);\n",
              "    box-shadow: 0 1px 2px rgba(60, 64, 67, 0.3), 0 1px 3px 1px rgba(60, 64, 67, 0.15);\n",
              "    fill: var(--button-hover-fill-color);\n",
              "  }\n",
              "\n",
              "  .colab-df-quickchart-complete:disabled,\n",
              "  .colab-df-quickchart-complete:disabled:hover {\n",
              "    background-color: var(--disabled-bg-color);\n",
              "    fill: var(--disabled-fill-color);\n",
              "    box-shadow: none;\n",
              "  }\n",
              "\n",
              "  .colab-df-spinner {\n",
              "    border: 2px solid var(--fill-color);\n",
              "    border-color: transparent;\n",
              "    border-bottom-color: var(--fill-color);\n",
              "    animation:\n",
              "      spin 1s steps(1) infinite;\n",
              "  }\n",
              "\n",
              "  @keyframes spin {\n",
              "    0% {\n",
              "      border-color: transparent;\n",
              "      border-bottom-color: var(--fill-color);\n",
              "      border-left-color: var(--fill-color);\n",
              "    }\n",
              "    20% {\n",
              "      border-color: transparent;\n",
              "      border-left-color: var(--fill-color);\n",
              "      border-top-color: var(--fill-color);\n",
              "    }\n",
              "    30% {\n",
              "      border-color: transparent;\n",
              "      border-left-color: var(--fill-color);\n",
              "      border-top-color: var(--fill-color);\n",
              "      border-right-color: var(--fill-color);\n",
              "    }\n",
              "    40% {\n",
              "      border-color: transparent;\n",
              "      border-right-color: var(--fill-color);\n",
              "      border-top-color: var(--fill-color);\n",
              "    }\n",
              "    60% {\n",
              "      border-color: transparent;\n",
              "      border-right-color: var(--fill-color);\n",
              "    }\n",
              "    80% {\n",
              "      border-color: transparent;\n",
              "      border-right-color: var(--fill-color);\n",
              "      border-bottom-color: var(--fill-color);\n",
              "    }\n",
              "    90% {\n",
              "      border-color: transparent;\n",
              "      border-bottom-color: var(--fill-color);\n",
              "    }\n",
              "  }\n",
              "</style>\n",
              "\n",
              "      <script>\n",
              "        async function quickchart(key) {\n",
              "          const quickchartButtonEl =\n",
              "            document.querySelector('#' + key + ' button');\n",
              "          quickchartButtonEl.disabled = true;  // To prevent multiple clicks.\n",
              "          quickchartButtonEl.classList.add('colab-df-spinner');\n",
              "          try {\n",
              "            const charts = await google.colab.kernel.invokeFunction(\n",
              "                'suggestCharts', [key], {});\n",
              "          } catch (error) {\n",
              "            console.error('Error during call to suggestCharts:', error);\n",
              "          }\n",
              "          quickchartButtonEl.classList.remove('colab-df-spinner');\n",
              "          quickchartButtonEl.classList.add('colab-df-quickchart-complete');\n",
              "        }\n",
              "        (() => {\n",
              "          let quickchartButtonEl =\n",
              "            document.querySelector('#df-69d99f28-62ef-4cce-a9db-0fc5c6021742 button');\n",
              "          quickchartButtonEl.style.display =\n",
              "            google.colab.kernel.accessAllowed ? 'block' : 'none';\n",
              "        })();\n",
              "      </script>\n",
              "    </div>\n",
              "\n",
              "    </div>\n",
              "  </div>\n"
            ],
            "application/vnd.google.colaboratory.intrinsic+json": {
              "type": "dataframe",
              "variable_name": "merged_data"
            }
          },
          "metadata": {},
          "execution_count": 5
        }
      ],
      "source": [
        "# Load datasets from the 'data' folder (relative path from notebooks/)\n",
        "\n",
        "!wget https://raw.githubusercontent.com/Ag78910/FIFA-women-analysis/main/FIFA-women-analysis/data/female_players.csv -O female_players.csv\n",
        "!wget https://raw.githubusercontent.com/Ag78910/FIFA-women-analysis/main/FIFA-women-analysis/data/female_teams.csv -O female_teams.csv\n",
        "\n",
        "# Load with pandas\n",
        "import pandas as pd\n",
        "\n",
        "female_players = pd.read_csv(\"female_players.csv\")\n",
        "female_teams = pd.read_csv(\"female_teams.csv\")\n",
        "\n",
        "# Merge datasets\n",
        "merged_data = female_players.merge(female_teams, left_on='club_team_id', right_on='team_id', how='inner')\n",
        "merged_data.head()\n",
        "\n",
        "\n",
        "\n"
      ]
    },
    {
      "cell_type": "markdown",
      "id": "dc443dea",
      "metadata": {
        "id": "dc443dea"
      },
      "source": [
        "### Age distribution of players"
      ]
    },
    {
      "cell_type": "code",
      "execution_count": 6,
      "id": "29721901",
      "metadata": {
        "colab": {
          "base_uri": "https://localhost:8080/",
          "height": 564
        },
        "id": "29721901",
        "outputId": "8713567d-a882-444b-e02d-d136e314b2cb"
      },
      "outputs": [
        {
          "output_type": "display_data",
          "data": {
            "text/plain": [
              "<Figure size 800x600 with 1 Axes>"
            ],
            "image/png": "[encoded data removed]"
          },
          "metadata": {}
        }
      ],
      "source": [
        "plt.figure(figsize=(8, 6))\n",
        "merged_data['age'].hist(bins=20, edgecolor='black')\n",
        "plt.title('Age Distribution of Players')\n",
        "plt.xlabel('Age')\n",
        "plt.ylabel('Frequency')\n",
        "plt.show()\n"
      ]
    },
    {
      "cell_type": "markdown",
      "id": "ad08a836",
      "metadata": {
        "id": "ad08a836"
      },
      "source": [
        "### Salary distribution"
      ]
    },
    {
      "cell_type": "code",
      "execution_count": 7,
      "id": "21395079",
      "metadata": {
        "colab": {
          "base_uri": "https://localhost:8080/",
          "height": 564
        },
        "id": "21395079",
        "outputId": "85ff1a8a-b51c-435d-e121-57100c97b537"
      },
      "outputs": [
        {
          "output_type": "display_data",
          "data": {
            "text/plain": [
              "<Figure size 800x600 with 1 Axes>"
            ],
            "image/png": "[encoded data removed]"
          },
          "metadata": {}
        }
      ],
      "source": [
        "plt.figure(figsize=(8, 6))\n",
        "merged_data['wage_eur'].dropna().hist(bins=20, edgecolor='black')\n",
        "plt.title('Salary Distribution of Players (EUR)')\n",
        "plt.xlabel('Salary (EUR)')\n",
        "plt.ylabel('Frequency')\n",
        "plt.show()\n"
      ]
    },
    {
      "cell_type": "markdown",
      "id": "99b23b22",
      "metadata": {
        "id": "99b23b22"
      },
      "source": [
        "### Most common nationalities"
      ]
    },
    {
      "cell_type": "code",
      "execution_count": 8,
      "id": "0308eeaf",
      "metadata": {
        "colab": {
          "base_uri": "https://localhost:8080/",
          "height": 644
        },
        "id": "0308eeaf",
        "outputId": "802cbf12-5461-47cf-95dd-ac745a2e5052"
      },
      "outputs": [
        {
          "output_type": "display_data",
          "data": {
            "text/plain": [
              "<Figure size 800x600 with 1 Axes>"
            ],
            "image/png": "[encoded data removed]"
          },
          "metadata": {}
        }
      ],
      "source": [
        "top_nationalities = merged_data['nationality_name_x'].value_counts().head(10)\n",
        "plt.figure(figsize=(8, 6))\n",
        "top_nationalities.plot(kind='bar', edgecolor='black')\n",
        "plt.title('Top 10 Nationalities of Players')\n",
        "plt.xlabel('Nationality')\n",
        "plt.ylabel('Number of Players')\n",
        "plt.show()\n"
      ]
    },
    {
      "cell_type": "markdown",
      "id": "bee96d68",
      "metadata": {
        "id": "bee96d68"
      },
      "source": [
        "### Relationship between performance and salary"
      ]
    },
    {
      "cell_type": "code",
      "execution_count": 9,
      "id": "d3e9c71d",
      "metadata": {
        "colab": {
          "base_uri": "https://localhost:8080/",
          "height": 564
        },
        "id": "d3e9c71d",
        "outputId": "89b89eda-37e9-490d-b5cc-78eff88e1090"
      },
      "outputs": [
        {
          "output_type": "display_data",
          "data": {
            "text/plain": [
              "<Figure size 800x600 with 1 Axes>"
            ],
            "image/png": "[encoded data removed]"
          },
          "metadata": {}
        }
      ],
      "source": [
        "plt.figure(figsize=(8, 6))\n",
        "plt.scatter(merged_data['overall_x'], merged_data['wage_eur'], alpha=0.5)\n",
        "plt.title('Relationship between Overall and Salary')\n",
        "plt.xlabel('Overall')\n",
        "plt.ylabel('Salary (EUR)')\n",
        "plt.show()\n"
      ]
    },
    {
      "cell_type": "markdown",
      "id": "c993b2ee",
      "metadata": {
        "id": "c993b2ee"
      },
      "source": [
        "## Regression model: Individual variables"
      ]
    },
    {
      "cell_type": "code",
      "execution_count": 10,
      "id": "cd7645dd",
      "metadata": {
        "colab": {
          "base_uri": "https://localhost:8080/"
        },
        "id": "cd7645dd",
        "outputId": "6d91fb59-47f8-4ed3-c4cb-4428a2f0e6f4"
      },
      "outputs": [
        {
          "output_type": "stream",
          "name": "stdout",
          "text": [
            "Regression Model Evaluation:\n",
            "Mean Squared Error (MSE): 51184.2729704534\n",
            "R-squared (R2): 0.7000160289213628\n",
            "Model Coefficients:\n",
            "overall_x: 28.23522553561224\n",
            "potential: -4.0358222964109665\n",
            "age: -4.519909815203599\n",
            "international_reputation: 233.81425932252978\n",
            "skill_moves: 47.15884775546491\n"
          ]
        }
      ],
      "source": [
        "features = ['overall_x', 'potential', 'age', 'international_reputation', 'skill_moves']\n",
        "X = merged_data[features]\n",
        "y = merged_data['wage_eur']\n",
        "\n",
        "X = X.dropna()\n",
        "y = y[X.index]\n",
        "\n",
        "X_train, X_test, y_train, y_test = train_test_split(X, y, test_size=0.2, random_state=42)\n",
        "\n",
        "regressor = LinearRegression()\n",
        "regressor.fit(X_train, y_train)\n",
        "\n",
        "y_pred = regressor.predict(X_test)\n",
        "mse = mean_squared_error(y_test, y_pred)\n",
        "r2 = r2_score(y_test, y_pred)\n",
        "\n",
        "print(\"Regression Model Evaluation:\")\n",
        "print(f\"Mean Squared Error (MSE): {mse}\")\n",
        "print(f\"R-squared (R2): {r2}\")\n",
        "print(\"Model Coefficients:\")\n",
        "for feature, coef in zip(features, regressor.coef_):\n",
        "    print(f\"{feature}: {coef}\")\n"
      ]
    },
    {
      "cell_type": "markdown",
      "id": "39fcc5a2",
      "metadata": {
        "id": "39fcc5a2"
      },
      "source": [
        "## Regression model: Team-related variables"
      ]
    },
    {
      "cell_type": "code",
      "execution_count": 11,
      "id": "0d4abe52",
      "metadata": {
        "colab": {
          "base_uri": "https://localhost:8080/"
        },
        "id": "0d4abe52",
        "outputId": "29b3873a-df11-44b7-976f-0a082dc99479"
      },
      "outputs": [
        {
          "output_type": "stream",
          "name": "stdout",
          "text": [
            "Team Model Regression Evaluation:\n",
            "Mean Squared Error (MSE): 162393.62606189674\n",
            "R-squared (R2): 0.04823333425037568\n",
            "Team Model Coefficients:\n",
            "starting_xi_average_age: 57.14748861827027\n",
            "whole_team_average_age: -8.97987960059468\n",
            "international_prestige: 0.0\n",
            "domestic_prestige: 0.0\n"
          ]
        }
      ],
      "source": [
        "team_features = ['starting_xi_average_age', 'whole_team_average_age', 'international_prestige', 'domestic_prestige']\n",
        "X_team = merged_data[team_features]\n",
        "y_team = merged_data['wage_eur']\n",
        "\n",
        "X_team = X_team.dropna()\n",
        "y_team = y_team[X_team.index]\n",
        "\n",
        "X_train_team, X_test_team, y_train_team, y_test_team = train_test_split(X_team, y_team, test_size=0.2, random_state=42)\n",
        "\n",
        "regressor_team = LinearRegression()\n",
        "regressor_team.fit(X_train_team, y_train_team)\n",
        "\n",
        "y_team_pred = regressor_team.predict(X_test_team)\n",
        "mse_team = mean_squared_error(y_test_team, y_team_pred)\n",
        "r2_team = r2_score(y_test_team, y_team_pred)\n",
        "\n",
        "print(\"Team Model Regression Evaluation:\")\n",
        "print(f\"Mean Squared Error (MSE): {mse_team}\")\n",
        "print(f\"R-squared (R2): {r2_team}\")\n",
        "print(\"Team Model Coefficients:\")\n",
        "for feature, coef in zip(team_features, regressor_team.coef_):\n",
        "    print(f\"{feature}: {coef}\")\n"
      ]
    },
    {
      "cell_type": "markdown",
      "id": "d604985a",
      "metadata": {
        "id": "d604985a"
      },
      "source": [
        "## 🧾 Extended Conclusions\n",
        "\n",
        "The comprehensive analysis of FIFA women's football data yields several important insights that can guide decision-making for fair investment, player development, and competitive equity:\n",
        "\n",
        "### ⚽ Player Demographics and Salaries\n",
        "- Most female players are aged between **20 and 30**, aligning with peak physical performance in sports.\n",
        "- **Wage distribution** is heavily skewed: while the majority earn lower to mid-range salaries, a small group of elite players earns significantly more. This suggests a **pay gap** even within professional women’s football.\n",
        "- **National diversity** is limited, with most players coming from a handful of countries such as **France, England, USA, Spain, and Germany**, reflecting unequal development and investment in women’s football across nations.\n",
        "\n",
        "### 💸 Regression Analysis — Individual Performance\n",
        "- The **linear regression model** using player variables (overall, potential, age, reputation, skill moves) achieves a solid **R² of 0.70**, showing that these individual factors explain 70% of wage variance.\n",
        "- The strongest predictor is **overall performance**, meaning current ability is highly rewarded.\n",
        "- Surprisingly, **potential** has a negative coefficient, implying that clubs prioritize current contribution over future promise.\n",
        "- **Age** also negatively impacts wages, favoring younger players.\n",
        "- **International reputation** significantly increases a player’s wage — branding and recognition matter.\n",
        "- **Skill moves** contribute positively but modestly.\n",
        "\n",
        "### 🏟️ Regression Analysis — Team Characteristics\n",
        "- A second regression using team-related variables (average age, prestige) performed poorly (**R² = 0.048**), meaning these features explain less than 5% of salary differences.\n",
        "- Neither **domestic** nor **international prestige** had a meaningful effect on individual salaries.\n",
        "- The conclusion is that **team characteristics do not significantly determine player pay** — it is the individual that matters most.\n",
        "\n",
        "### 📊 Tactical Attributes by Position\n",
        "- Radar analysis of player attributes across positions reveals specialization:\n",
        "  - **Wingers (LW, RW)** excel in pace and dribbling.\n",
        "  - **Strikers (ST)** dominate in shooting and physical traits.\n",
        "  - **Midfielders (CM)** have balanced skills, crucial for transitions and ball distribution.\n",
        "  - **Center backs (CB)** are strongest in defending and physicality, but weakest in offensive traits.\n",
        "- These profiles reflect the **tactical demands** of each position and **could influence salary valuation** accordingly.\n",
        "\n",
        "### 🏆 Recommendations for Competitive Equity\n",
        "To address talent concentration and foster equality in global women’s football, a **3-pillar strategic approach** is proposed:\n",
        "\n",
        "1. **Subsidize Smaller Clubs**  \n",
        "   Provide conditional grants to less financially capable clubs, especially in emerging leagues, for investment in:\n",
        "   - Youth academies\n",
        "   - Training infrastructure\n",
        "   - Coaching staff\n",
        "\n",
        "2. **Reinforce National Leagues**  \n",
        "   Boost local league competitiveness by:\n",
        "   - Introducing salary caps or foreign player limits\n",
        "   - Encouraging development of homegrown talent\n",
        "   - Offering performance-based incentives\n",
        "\n",
        "3. **Support Regional Outreach**  \n",
        "   Promote football in underrepresented areas through:\n",
        "   - School scouting programs\n",
        "   - Local tournaments\n",
        "   - Inclusion initiatives in vulnerable communities\n",
        "\n",
        "These policies, supported by transparent monitoring and evaluation, will promote fair access to resources, reduce concentration of talent, and enhance the visibility and sustainability of women’s football worldwide.\n"
      ]
    }
  ],
  "metadata": {
    "colab": {
      "provenance": []
    },
    "language_info": {
      "name": "python"
    },
    "kernelspec": {
      "name": "python3",
      "display_name": "Python 3"
    }
  },
  "nbformat": 4,
  "nbformat_minor": 5
}