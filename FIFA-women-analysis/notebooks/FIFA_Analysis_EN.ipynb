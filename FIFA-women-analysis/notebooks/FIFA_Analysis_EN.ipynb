{
 "cells": [
  {
   "cell_type": "markdown",
   "id": "6c9ad965",
   "metadata": {},
   "source": [
    "# Data Analysis: Women's Football - FIFA\n",
    "\n",
    "This notebook contains exploratory analysis and regression models developed to evaluate the salary value of female football players based on FIFA data. Project by Alejandro Galindo Valencia and Carla Moreno Molina."
   ]
  },
  {
   "cell_type": "code",
   "execution_count": null,
   "id": "d51559e5",
   "metadata": {},
   "outputs": [],
   "source": [
    "import pandas as pd\n",
    "import numpy as np\n",
    "import matplotlib.pyplot as plt\n",
    "import seaborn as sns\n",
    "\n",
    "from sklearn.model_selection import train_test_split\n",
    "from sklearn.linear_model import LinearRegression\n",
    "from sklearn.metrics import mean_squared_error, r2_score\n"
   ]
  },
  {
   "cell_type": "code",
   "execution_count": null,
   "id": "9ab845c4",
   "metadata": {},
   "outputs": [],
   "source": [
    "# Load datasets\n",
    "players_path = \"../datos/female_players.csv\"\n",
    "teams_path = \"../datos/female_teams.csv\"\n",
    "\n",
    "female_players = pd.read_csv(players_path)\n",
    "female_teams = pd.read_csv(teams_path)\n",
    "\n",
    "# Merge datasets by team ID\n",
    "merged_data = female_players.merge(female_teams, left_on='club_team_id', right_on='team_id', how='inner')\n",
    "merged_data.head()\n"
   ]
  },
  {
   "cell_type": "markdown",
   "id": "dc443dea",
   "metadata": {},
   "source": [
    "### Age distribution of players"
   ]
  },
  {
   "cell_type": "code",
   "execution_count": null,
   "id": "29721901",
   "metadata": {},
   "outputs": [],
   "source": [
    "plt.figure(figsize=(8, 6))\n",
    "merged_data['age'].hist(bins=20, edgecolor='black')\n",
    "plt.title('Age Distribution of Players')\n",
    "plt.xlabel('Age')\n",
    "plt.ylabel('Frequency')\n",
    "plt.show()\n"
   ]
  },
  {
   "cell_type": "markdown",
   "id": "ad08a836",
   "metadata": {},
   "source": [
    "### Salary distribution"
   ]
  },
  {
   "cell_type": "code",
   "execution_count": null,
   "id": "21395079",
   "metadata": {},
   "outputs": [],
   "source": [
    "plt.figure(figsize=(8, 6))\n",
    "merged_data['wage_eur'].dropna().hist(bins=20, edgecolor='black')\n",
    "plt.title('Salary Distribution of Players (EUR)')\n",
    "plt.xlabel('Salary (EUR)')\n",
    "plt.ylabel('Frequency')\n",
    "plt.show()\n"
   ]
  },
  {
   "cell_type": "markdown",
   "id": "99b23b22",
   "metadata": {},
   "source": [
    "### Most common nationalities"
   ]
  },
  {
   "cell_type": "code",
   "execution_count": null,
   "id": "0308eeaf",
   "metadata": {},
   "outputs": [],
   "source": [
    "top_nationalities = merged_data['nationality_name_x'].value_counts().head(10)\n",
    "plt.figure(figsize=(8, 6))\n",
    "top_nationalities.plot(kind='bar', edgecolor='black')\n",
    "plt.title('Top 10 Nationalities of Players')\n",
    "plt.xlabel('Nationality')\n",
    "plt.ylabel('Number of Players')\n",
    "plt.show()\n"
   ]
  },
  {
   "cell_type": "markdown",
   "id": "bee96d68",
   "metadata": {},
   "source": [
    "### Relationship between performance and salary"
   ]
  },
  {
   "cell_type": "code",
   "execution_count": null,
   "id": "d3e9c71d",
   "metadata": {},
   "outputs": [],
   "source": [
    "plt.figure(figsize=(8, 6))\n",
    "plt.scatter(merged_data['overall_x'], merged_data['wage_eur'], alpha=0.5)\n",
    "plt.title('Relationship between Overall and Salary')\n",
    "plt.xlabel('Overall')\n",
    "plt.ylabel('Salary (EUR)')\n",
    "plt.show()\n"
   ]
  },
  {
   "cell_type": "markdown",
   "id": "c993b2ee",
   "metadata": {},
   "source": [
    "## Regression model: Individual variables"
   ]
  },
  {
   "cell_type": "code",
   "execution_count": null,
   "id": "cd7645dd",
   "metadata": {},
   "outputs": [],
   "source": [
    "features = ['overall_x', 'potential', 'age', 'international_reputation', 'skill_moves']\n",
    "X = merged_data[features]\n",
    "y = merged_data['wage_eur']\n",
    "\n",
    "X = X.dropna()\n",
    "y = y[X.index]\n",
    "\n",
    "X_train, X_test, y_train, y_test = train_test_split(X, y, test_size=0.2, random_state=42)\n",
    "\n",
    "regressor = LinearRegression()\n",
    "regressor.fit(X_train, y_train)\n",
    "\n",
    "y_pred = regressor.predict(X_test)\n",
    "mse = mean_squared_error(y_test, y_pred)\n",
    "r2 = r2_score(y_test, y_pred)\n",
    "\n",
    "print(\"Regression Model Evaluation:\")\n",
    "print(f\"Mean Squared Error (MSE): {mse}\")\n",
    "print(f\"R-squared (R2): {r2}\")\n",
    "print(\"Model Coefficients:\")\n",
    "for feature, coef in zip(features, regressor.coef_):\n",
    "    print(f\"{feature}: {coef}\")\n"
   ]
  },
  {
   "cell_type": "markdown",
   "id": "39fcc5a2",
   "metadata": {},
   "source": [
    "## Regression model: Team-related variables"
   ]
  },
  {
   "cell_type": "code",
   "execution_count": null,
   "id": "0d4abe52",
   "metadata": {},
   "outputs": [],
   "source": [
    "team_features = ['starting_xi_average_age', 'whole_team_average_age', 'international_prestige', 'domestic_prestige']\n",
    "X_team = merged_data[team_features]\n",
    "y_team = merged_data['wage_eur']\n",
    "\n",
    "X_team = X_team.dropna()\n",
    "y_team = y_team[X_team.index]\n",
    "\n",
    "X_train_team, X_test_team, y_train_team, y_test_team = train_test_split(X_team, y_team, test_size=0.2, random_state=42)\n",
    "\n",
    "regressor_team = LinearRegression()\n",
    "regressor_team.fit(X_train_team, y_train_team)\n",
    "\n",
    "y_team_pred = regressor_team.predict(X_test_team)\n",
    "mse_team = mean_squared_error(y_test_team, y_team_pred)\n",
    "r2_team = r2_score(y_test_team, y_team_pred)\n",
    "\n",
    "print(\"Team Model Regression Evaluation:\")\n",
    "print(f\"Mean Squared Error (MSE): {mse_team}\")\n",
    "print(f\"R-squared (R2): {r2_team}\")\n",
    "print(\"Team Model Coefficients:\")\n",
    "for feature, coef in zip(team_features, regressor_team.coef_):\n",
    "    print(f\"{feature}: {coef}\")\n"
   ]
  },
  {
   "cell_type": "markdown",
   "id": "d604985a",
   "metadata": {},
   "source": [
    "## 🧾 Extended Conclusions\n",
    "\n",
    "The comprehensive analysis of FIFA women's football data yields several important insights that can guide decision-making for fair investment, player development, and competitive equity:\n",
    "\n",
    "### ⚽ Player Demographics and Salaries\n",
    "- Most female players are aged between **20 and 30**, aligning with peak physical performance in sports.\n",
    "- **Wage distribution** is heavily skewed: while the majority earn lower to mid-range salaries, a small group of elite players earns significantly more. This suggests a **pay gap** even within professional women’s football.\n",
    "- **National diversity** is limited, with most players coming from a handful of countries such as **France, England, USA, Spain, and Germany**, reflecting unequal development and investment in women’s football across nations.\n",
    "\n",
    "### 💸 Regression Analysis — Individual Performance\n",
    "- The **linear regression model** using player variables (overall, potential, age, reputation, skill moves) achieves a solid **R² of 0.70**, showing that these individual factors explain 70% of wage variance.\n",
    "- The strongest predictor is **overall performance**, meaning current ability is highly rewarded.\n",
    "- Surprisingly, **potential** has a negative coefficient, implying that clubs prioritize current contribution over future promise.\n",
    "- **Age** also negatively impacts wages, favoring younger players.\n",
    "- **International reputation** significantly increases a player’s wage — branding and recognition matter.\n",
    "- **Skill moves** contribute positively but modestly.\n",
    "\n",
    "### 🏟️ Regression Analysis — Team Characteristics\n",
    "- A second regression using team-related variables (average age, prestige) performed poorly (**R² = 0.048**), meaning these features explain less than 5% of salary differences.\n",
    "- Neither **domestic** nor **international prestige** had a meaningful effect on individual salaries.\n",
    "- The conclusion is that **team characteristics do not significantly determine player pay** — it is the individual that matters most.\n",
    "\n",
    "### 📊 Tactical Attributes by Position\n",
    "- Radar analysis of player attributes across positions reveals specialization:\n",
    "  - **Wingers (LW, RW)** excel in pace and dribbling.\n",
    "  - **Strikers (ST)** dominate in shooting and physical traits.\n",
    "  - **Midfielders (CM)** have balanced skills, crucial for transitions and ball distribution.\n",
    "  - **Center backs (CB)** are strongest in defending and physicality, but weakest in offensive traits.\n",
    "- These profiles reflect the **tactical demands** of each position and **could influence salary valuation** accordingly.\n",
    "\n",
    "### 🏆 Recommendations for Competitive Equity\n",
    "To address talent concentration and foster equality in global women’s football, a **3-pillar strategic approach** is proposed:\n",
    "\n",
    "1. **Subsidize Smaller Clubs**  \n",
    "   Provide conditional grants to less financially capable clubs, especially in emerging leagues, for investment in:\n",
    "   - Youth academies\n",
    "   - Training infrastructure\n",
    "   - Coaching staff\n",
    "\n",
    "2. **Reinforce National Leagues**  \n",
    "   Boost local league competitiveness by:\n",
    "   - Introducing salary caps or foreign player limits\n",
    "   - Encouraging development of homegrown talent\n",
    "   - Offering performance-based incentives\n",
    "\n",
    "3. **Support Regional Outreach**  \n",
    "   Promote football in underrepresented areas through:\n",
    "   - School scouting programs\n",
    "   - Local tournaments\n",
    "   - Inclusion initiatives in vulnerable communities\n",
    "\n",
    "These policies, supported by transparent monitoring and evaluation, will promote fair access to resources, reduce concentration of talent, and enhance the visibility and sustainability of women’s football worldwide.\n"
   ]
  }
 ],
 "metadata": {},
 "nbformat": 4,
 "nbformat_minor": 5
}
